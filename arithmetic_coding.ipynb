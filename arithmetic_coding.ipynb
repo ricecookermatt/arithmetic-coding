{
 "cells": [
  {
   "cell_type": "markdown",
   "id": "c509dcd8-7c1e-4620-b5dd-019469f2c506",
   "metadata": {},
   "source": [
    "# Rough Draft\n",
    "Notes on deriving the formula for the theoretical maximum number of bits required for arithmetic coding.\n",
    "Tested against empirical data.\n",
    "\n",
    "Constraints:\n",
    "    Number of total characters in the data is a power of 2\n",
    "    Number of unique characters is no more than 4\n",
    "    Each character is i.i.d.\n",
    "    \n",
    "Theorized bound:\n",
    "    Assuming worst case the data only contains characters that occur once,\n",
    "    the encoding will perform N times on the same delta (which is equal to \n",
    "    the p.m.f.).  \n",
    "    \n",
    "    Where N = data length, M = # unique chars\n",
    "    In the scenario described above, N = M and delta (pmf) is equal to 1/M\n",
    "\n",
    "    -log2[ (1/M)^N ]\n",
    "\n",
    "    Sign negation is due to pmf being fractional\n",
    "    Use log2 since converting to binary\n",
    "    \n",
    "    \n",
    "    Since the data is encoded in the middle between the bounds, an extra bit\n",
    "    is required\n",
    "    \n",
    "    Theorized worst case number of bits: 1 + -log2[ (1/M)^N ] \n",
    "    To make more intuitive with the addition of the extra bit:\n",
    "        \n",
    "    1 + log2[ (1/M)^(-N) ]\n",
    "    \n",
    "   \n",
    "    It can also be expressed as 1 + (N/M)*log2[ N^M ] = 1 + log2(N^N)\n",
    "    Comment: Do the alphabet size doesn't matter?\n",
    "    Need to check my assumption on the formulas raising pmf\n"
   ]
  },
  {
   "cell_type": "code",
   "execution_count": null,
   "id": "2918a671-0afb-416c-a79f-2ece649d36fe",
   "metadata": {},
   "outputs": [],
   "source": []
  }
 ],
 "metadata": {
  "kernelspec": {
   "display_name": "Python 3 (ipykernel)",
   "language": "python",
   "name": "python3"
  },
  "language_info": {
   "codemirror_mode": {
    "name": "ipython",
    "version": 3
   },
   "file_extension": ".py",
   "mimetype": "text/x-python",
   "name": "python",
   "nbconvert_exporter": "python",
   "pygments_lexer": "ipython3",
   "version": "3.12.3"
  }
 },
 "nbformat": 4,
 "nbformat_minor": 5
}
